{
 "cells": [
  {
   "cell_type": "markdown",
   "metadata": {},
   "source": []
  },
  {
   "cell_type": "code",
   "execution_count": 1,
   "metadata": {},
   "outputs": [
    {
     "data": {
      "application/vnd.plotly.v1+json": {
       "config": {
        "plotlyServerURL": "https://plot.ly"
       },
       "data": [
        {
         "alignmentgroup": "True",
         "customdata": [
          [
           "Catalyst: tetrakis(triphenylphosphine) palladium(0)<br>Ligand: None<br>Base: potassium carbonate<br>Frequency: 67"
          ],
          [
           "Catalyst: Pd-BNP<br>Ligand: None<br>Base: triethylamine<br>Frequency: 31"
          ],
          [
           "Catalyst: bis(dibenzylideneacetone)-palladium(0)<br>Ligand: (R)-4-(dimethylamino)-2,6- dimethyldinaphtho[2,1-d:1',2'f][1,3,2]-dioxaphosphepine<br>Base: potassium carbonate<br>Frequency: 30"
          ],
          [
           "Catalyst: palladium diacetate<br>Ligand: triphenylphosphine<br>Base: potassium carbonate<br>Frequency: 26"
          ],
          [
           "Catalyst: tris-(dibenzylideneacetone)dipalladium(0)<br>Ligand: trifuran-2-yl-phosphane<br>Base: lithium tert-butoxide<br>Frequency: 24"
          ],
          [
           "Catalyst: None<br>Ligand: None<br>Base: lithium tert-butoxide<br>Frequency: 18"
          ],
          [
           "Catalyst: tetrakis(triphenylphosphine) palladium(0)<br>Ligand: None<br>Base: caesium carbonate<br>Frequency: 17"
          ],
          [
           "Catalyst: bis(dibenzylideneacetone)-palladium(0)<br>Ligand: dicyclohexyl-(2',6'-dimethoxybiphenyl-2-yl)-phosphane<br>Base: lithium tert-butoxide<br>Frequency: 9"
          ],
          [
           "Catalyst: None<br>Ligand: None<br>Base: None<br>Frequency: 6"
          ],
          [
           "Catalyst: None<br>Ligand: None<br>Base: potassium carbonate<br>Frequency: 6"
          ],
          [
           "Catalyst: bis(dibenzylideneacetone)-palladium(0)<br>Ligand: ruphos<br>Base: lithium tert-butoxide<br>Frequency: 6"
          ],
          [
           "Catalyst: tris-(dibenzylideneacetone)dipalladium(0)<br>Ligand: XPhos<br>Base: lithium tert-butoxide<br>Frequency: 6"
          ],
          [
           "Catalyst: tris(dibenzylideneacetone)dipalladium(0) chloroform complex<br>Ligand: triphenylphosphine<br>Base: lithium tert-butoxide<br>Frequency: 3"
          ],
          [
           "Catalyst: tris-(dibenzylideneacetone)dipalladium(0)<br>Ligand: dicyclohexyl-(2',6'-dimethoxybiphenyl-2-yl)-phosphane<br>Base: potassium carbonate<br>Frequency: 2"
          ],
          [
           "Catalyst: bis-triphenylphosphine-palladium(II) chloride<br>Ligand: None<br>Base: triethylamine<br>Frequency: 2"
          ],
          [
           "Catalyst: tris-(dibenzylideneacetone)dipalladium(0)<br>Ligand: bis[2-(diphenylphosphino)phenyl] ether<br>Base: caesium carbonate<br>Frequency: 1"
          ],
          [
           "Catalyst: tris(dibenzylideneacetone)dipalladium(0) chloroform complex<br>Ligand: tris[3,4-bis-(trifluoromethyl)phenyl]phosphine<br>Base: potassium carbonate<br>Frequency: 1"
          ],
          [
           "Catalyst: palladium diacetate<br>Ligand: tricyclohexylphosphine tetrafluoroborate<br>Base: caesium carbonate<br>Frequency: 1"
          ],
          [
           "Catalyst: palladium diacetate<br>Ligand: triphenylphosphine<br>Base: lithium tert-butoxide<br>Frequency: 1"
          ],
          [
           "Catalyst: None<br>Ligand: C55H47F3NOPS<br>Base: lithium tert-butoxide<br>Frequency: 1"
          ],
          [
           "Catalyst: palladium diacetate<br>Ligand: XPhos<br>Base: None<br>Frequency: 1"
          ],
          [
           "Catalyst: palladium diacetate<br>Ligand: 4-(N,N-Dimethylamino)triphenylphosphine<br>Base: sodium hydride<br>Frequency: 1"
          ],
          [
           "Catalyst: palladium diacetate<br>Ligand: 1,1'-bis-(diphenylphosphino)ferrocene<br>Base: potassium carbonate<br>Frequency: 1"
          ],
          [
           "Catalyst: dichloro bis(acetonitrile) palladium(II)<br>Ligand: P(p-C6H4F)3<br>Base: sodium hydride<br>Frequency: 1"
          ],
          [
           "Catalyst: di-μ-chlorobis[2-[(dimethylamino)methyl]phenyl-C,N]dipalladium(II)<br>Ligand: (R)-N-((R)-(3,5-di(naphthalen-2-yl)phenyl)(2-(diphenylphosphanyl)-5-(trifluoromethyl)phenyl)methyl)-N,2-dimethylpropane-2-sulfinamide<br>Base: lithium tert-butoxide<br>Frequency: 1"
          ],
          [
           "Catalyst: bis-triphenylphosphine-palladium(II) chloride<br>Ligand: None<br>Base: lithium tert-butoxide<br>Frequency: 1"
          ],
          [
           "Catalyst: bis(η3-allyl-μ-chloropalladium(II))<br>Ligand: triphenylphosphine<br>Base: tert.-butyl lithium<br>Frequency: 1"
          ],
          [
           "Catalyst: bis(η3-allyl-μ-chloropalladium(II))<br>Ligand: 1,4-di(diphenylphosphino)-butane<br>Base: potassium carbonate<br>Frequency: 1"
          ],
          [
           "Catalyst: None<br>Ligand: None<br>Base: sodium hydroxide<br>Frequency: 1"
          ],
          [
           "Catalyst: palladium (II) chloride<br>Ligand: 4-(dimethylamino)phenyldiphenylphosphine<br>Base: caesium carbonate<br>Frequency: 1"
          ]
         ],
         "hovertemplate": "%{customdata[0]}",
         "legendgroup": "",
         "marker": {
          "color": "#636efa",
          "pattern": {
           "shape": ""
          }
         },
         "name": "",
         "offsetgroup": "",
         "orientation": "v",
         "showlegend": false,
         "textposition": "auto",
         "type": "bar",
         "x": [
          0,
          1,
          2,
          3,
          4,
          5,
          6,
          7,
          8,
          9,
          10,
          11,
          12,
          13,
          14,
          15,
          16,
          17,
          18,
          19,
          20,
          21,
          22,
          23,
          24,
          25,
          26,
          27,
          28,
          29
         ],
         "xaxis": "x",
         "y": [
          67,
          31,
          30,
          26,
          24,
          18,
          17,
          9,
          6,
          6,
          6,
          6,
          3,
          2,
          2,
          1,
          1,
          1,
          1,
          1,
          1,
          1,
          1,
          1,
          1,
          1,
          1,
          1,
          1,
          1
         ],
         "yaxis": "y"
        }
       ],
       "layout": {
        "barmode": "relative",
        "hoverlabel": {
         "bgcolor": "white",
         "font": {
          "family": "Arial",
          "size": 12
         }
        },
        "legend": {
         "tracegroupgap": 0
        },
        "template": {
         "data": {
          "bar": [
           {
            "error_x": {
             "color": "#2a3f5f"
            },
            "error_y": {
             "color": "#2a3f5f"
            },
            "marker": {
             "line": {
              "color": "#E5ECF6",
              "width": 0.5
             },
             "pattern": {
              "fillmode": "overlay",
              "size": 10,
              "solidity": 0.2
             }
            },
            "type": "bar"
           }
          ],
          "barpolar": [
           {
            "marker": {
             "line": {
              "color": "#E5ECF6",
              "width": 0.5
             },
             "pattern": {
              "fillmode": "overlay",
              "size": 10,
              "solidity": 0.2
             }
            },
            "type": "barpolar"
           }
          ],
          "carpet": [
           {
            "aaxis": {
             "endlinecolor": "#2a3f5f",
             "gridcolor": "white",
             "linecolor": "white",
             "minorgridcolor": "white",
             "startlinecolor": "#2a3f5f"
            },
            "baxis": {
             "endlinecolor": "#2a3f5f",
             "gridcolor": "white",
             "linecolor": "white",
             "minorgridcolor": "white",
             "startlinecolor": "#2a3f5f"
            },
            "type": "carpet"
           }
          ],
          "choropleth": [
           {
            "colorbar": {
             "outlinewidth": 0,
             "ticks": ""
            },
            "type": "choropleth"
           }
          ],
          "contour": [
           {
            "colorbar": {
             "outlinewidth": 0,
             "ticks": ""
            },
            "colorscale": [
             [
              0,
              "#0d0887"
             ],
             [
              0.1111111111111111,
              "#46039f"
             ],
             [
              0.2222222222222222,
              "#7201a8"
             ],
             [
              0.3333333333333333,
              "#9c179e"
             ],
             [
              0.4444444444444444,
              "#bd3786"
             ],
             [
              0.5555555555555556,
              "#d8576b"
             ],
             [
              0.6666666666666666,
              "#ed7953"
             ],
             [
              0.7777777777777778,
              "#fb9f3a"
             ],
             [
              0.8888888888888888,
              "#fdca26"
             ],
             [
              1,
              "#f0f921"
             ]
            ],
            "type": "contour"
           }
          ],
          "contourcarpet": [
           {
            "colorbar": {
             "outlinewidth": 0,
             "ticks": ""
            },
            "type": "contourcarpet"
           }
          ],
          "heatmap": [
           {
            "colorbar": {
             "outlinewidth": 0,
             "ticks": ""
            },
            "colorscale": [
             [
              0,
              "#0d0887"
             ],
             [
              0.1111111111111111,
              "#46039f"
             ],
             [
              0.2222222222222222,
              "#7201a8"
             ],
             [
              0.3333333333333333,
              "#9c179e"
             ],
             [
              0.4444444444444444,
              "#bd3786"
             ],
             [
              0.5555555555555556,
              "#d8576b"
             ],
             [
              0.6666666666666666,
              "#ed7953"
             ],
             [
              0.7777777777777778,
              "#fb9f3a"
             ],
             [
              0.8888888888888888,
              "#fdca26"
             ],
             [
              1,
              "#f0f921"
             ]
            ],
            "type": "heatmap"
           }
          ],
          "heatmapgl": [
           {
            "colorbar": {
             "outlinewidth": 0,
             "ticks": ""
            },
            "colorscale": [
             [
              0,
              "#0d0887"
             ],
             [
              0.1111111111111111,
              "#46039f"
             ],
             [
              0.2222222222222222,
              "#7201a8"
             ],
             [
              0.3333333333333333,
              "#9c179e"
             ],
             [
              0.4444444444444444,
              "#bd3786"
             ],
             [
              0.5555555555555556,
              "#d8576b"
             ],
             [
              0.6666666666666666,
              "#ed7953"
             ],
             [
              0.7777777777777778,
              "#fb9f3a"
             ],
             [
              0.8888888888888888,
              "#fdca26"
             ],
             [
              1,
              "#f0f921"
             ]
            ],
            "type": "heatmapgl"
           }
          ],
          "histogram": [
           {
            "marker": {
             "pattern": {
              "fillmode": "overlay",
              "size": 10,
              "solidity": 0.2
             }
            },
            "type": "histogram"
           }
          ],
          "histogram2d": [
           {
            "colorbar": {
             "outlinewidth": 0,
             "ticks": ""
            },
            "colorscale": [
             [
              0,
              "#0d0887"
             ],
             [
              0.1111111111111111,
              "#46039f"
             ],
             [
              0.2222222222222222,
              "#7201a8"
             ],
             [
              0.3333333333333333,
              "#9c179e"
             ],
             [
              0.4444444444444444,
              "#bd3786"
             ],
             [
              0.5555555555555556,
              "#d8576b"
             ],
             [
              0.6666666666666666,
              "#ed7953"
             ],
             [
              0.7777777777777778,
              "#fb9f3a"
             ],
             [
              0.8888888888888888,
              "#fdca26"
             ],
             [
              1,
              "#f0f921"
             ]
            ],
            "type": "histogram2d"
           }
          ],
          "histogram2dcontour": [
           {
            "colorbar": {
             "outlinewidth": 0,
             "ticks": ""
            },
            "colorscale": [
             [
              0,
              "#0d0887"
             ],
             [
              0.1111111111111111,
              "#46039f"
             ],
             [
              0.2222222222222222,
              "#7201a8"
             ],
             [
              0.3333333333333333,
              "#9c179e"
             ],
             [
              0.4444444444444444,
              "#bd3786"
             ],
             [
              0.5555555555555556,
              "#d8576b"
             ],
             [
              0.6666666666666666,
              "#ed7953"
             ],
             [
              0.7777777777777778,
              "#fb9f3a"
             ],
             [
              0.8888888888888888,
              "#fdca26"
             ],
             [
              1,
              "#f0f921"
             ]
            ],
            "type": "histogram2dcontour"
           }
          ],
          "mesh3d": [
           {
            "colorbar": {
             "outlinewidth": 0,
             "ticks": ""
            },
            "type": "mesh3d"
           }
          ],
          "parcoords": [
           {
            "line": {
             "colorbar": {
              "outlinewidth": 0,
              "ticks": ""
             }
            },
            "type": "parcoords"
           }
          ],
          "pie": [
           {
            "automargin": true,
            "type": "pie"
           }
          ],
          "scatter": [
           {
            "marker": {
             "colorbar": {
              "outlinewidth": 0,
              "ticks": ""
             }
            },
            "type": "scatter"
           }
          ],
          "scatter3d": [
           {
            "line": {
             "colorbar": {
              "outlinewidth": 0,
              "ticks": ""
             }
            },
            "marker": {
             "colorbar": {
              "outlinewidth": 0,
              "ticks": ""
             }
            },
            "type": "scatter3d"
           }
          ],
          "scattercarpet": [
           {
            "marker": {
             "colorbar": {
              "outlinewidth": 0,
              "ticks": ""
             }
            },
            "type": "scattercarpet"
           }
          ],
          "scattergeo": [
           {
            "marker": {
             "colorbar": {
              "outlinewidth": 0,
              "ticks": ""
             }
            },
            "type": "scattergeo"
           }
          ],
          "scattergl": [
           {
            "marker": {
             "colorbar": {
              "outlinewidth": 0,
              "ticks": ""
             }
            },
            "type": "scattergl"
           }
          ],
          "scattermapbox": [
           {
            "marker": {
             "colorbar": {
              "outlinewidth": 0,
              "ticks": ""
             }
            },
            "type": "scattermapbox"
           }
          ],
          "scatterpolar": [
           {
            "marker": {
             "colorbar": {
              "outlinewidth": 0,
              "ticks": ""
             }
            },
            "type": "scatterpolar"
           }
          ],
          "scatterpolargl": [
           {
            "marker": {
             "colorbar": {
              "outlinewidth": 0,
              "ticks": ""
             }
            },
            "type": "scatterpolargl"
           }
          ],
          "scatterternary": [
           {
            "marker": {
             "colorbar": {
              "outlinewidth": 0,
              "ticks": ""
             }
            },
            "type": "scatterternary"
           }
          ],
          "surface": [
           {
            "colorbar": {
             "outlinewidth": 0,
             "ticks": ""
            },
            "colorscale": [
             [
              0,
              "#0d0887"
             ],
             [
              0.1111111111111111,
              "#46039f"
             ],
             [
              0.2222222222222222,
              "#7201a8"
             ],
             [
              0.3333333333333333,
              "#9c179e"
             ],
             [
              0.4444444444444444,
              "#bd3786"
             ],
             [
              0.5555555555555556,
              "#d8576b"
             ],
             [
              0.6666666666666666,
              "#ed7953"
             ],
             [
              0.7777777777777778,
              "#fb9f3a"
             ],
             [
              0.8888888888888888,
              "#fdca26"
             ],
             [
              1,
              "#f0f921"
             ]
            ],
            "type": "surface"
           }
          ],
          "table": [
           {
            "cells": {
             "fill": {
              "color": "#EBF0F8"
             },
             "line": {
              "color": "white"
             }
            },
            "header": {
             "fill": {
              "color": "#C8D4E3"
             },
             "line": {
              "color": "white"
             }
            },
            "type": "table"
           }
          ]
         },
         "layout": {
          "annotationdefaults": {
           "arrowcolor": "#2a3f5f",
           "arrowhead": 0,
           "arrowwidth": 1
          },
          "autotypenumbers": "strict",
          "coloraxis": {
           "colorbar": {
            "outlinewidth": 0,
            "ticks": ""
           }
          },
          "colorscale": {
           "diverging": [
            [
             0,
             "#8e0152"
            ],
            [
             0.1,
             "#c51b7d"
            ],
            [
             0.2,
             "#de77ae"
            ],
            [
             0.3,
             "#f1b6da"
            ],
            [
             0.4,
             "#fde0ef"
            ],
            [
             0.5,
             "#f7f7f7"
            ],
            [
             0.6,
             "#e6f5d0"
            ],
            [
             0.7,
             "#b8e186"
            ],
            [
             0.8,
             "#7fbc41"
            ],
            [
             0.9,
             "#4d9221"
            ],
            [
             1,
             "#276419"
            ]
           ],
           "sequential": [
            [
             0,
             "#0d0887"
            ],
            [
             0.1111111111111111,
             "#46039f"
            ],
            [
             0.2222222222222222,
             "#7201a8"
            ],
            [
             0.3333333333333333,
             "#9c179e"
            ],
            [
             0.4444444444444444,
             "#bd3786"
            ],
            [
             0.5555555555555556,
             "#d8576b"
            ],
            [
             0.6666666666666666,
             "#ed7953"
            ],
            [
             0.7777777777777778,
             "#fb9f3a"
            ],
            [
             0.8888888888888888,
             "#fdca26"
            ],
            [
             1,
             "#f0f921"
            ]
           ],
           "sequentialminus": [
            [
             0,
             "#0d0887"
            ],
            [
             0.1111111111111111,
             "#46039f"
            ],
            [
             0.2222222222222222,
             "#7201a8"
            ],
            [
             0.3333333333333333,
             "#9c179e"
            ],
            [
             0.4444444444444444,
             "#bd3786"
            ],
            [
             0.5555555555555556,
             "#d8576b"
            ],
            [
             0.6666666666666666,
             "#ed7953"
            ],
            [
             0.7777777777777778,
             "#fb9f3a"
            ],
            [
             0.8888888888888888,
             "#fdca26"
            ],
            [
             1,
             "#f0f921"
            ]
           ]
          },
          "colorway": [
           "#636efa",
           "#EF553B",
           "#00cc96",
           "#ab63fa",
           "#FFA15A",
           "#19d3f3",
           "#FF6692",
           "#B6E880",
           "#FF97FF",
           "#FECB52"
          ],
          "font": {
           "color": "#2a3f5f"
          },
          "geo": {
           "bgcolor": "white",
           "lakecolor": "white",
           "landcolor": "#E5ECF6",
           "showlakes": true,
           "showland": true,
           "subunitcolor": "white"
          },
          "hoverlabel": {
           "align": "left"
          },
          "hovermode": "closest",
          "mapbox": {
           "style": "light"
          },
          "paper_bgcolor": "white",
          "plot_bgcolor": "#E5ECF6",
          "polar": {
           "angularaxis": {
            "gridcolor": "white",
            "linecolor": "white",
            "ticks": ""
           },
           "bgcolor": "#E5ECF6",
           "radialaxis": {
            "gridcolor": "white",
            "linecolor": "white",
            "ticks": ""
           }
          },
          "scene": {
           "xaxis": {
            "backgroundcolor": "#E5ECF6",
            "gridcolor": "white",
            "gridwidth": 2,
            "linecolor": "white",
            "showbackground": true,
            "ticks": "",
            "zerolinecolor": "white"
           },
           "yaxis": {
            "backgroundcolor": "#E5ECF6",
            "gridcolor": "white",
            "gridwidth": 2,
            "linecolor": "white",
            "showbackground": true,
            "ticks": "",
            "zerolinecolor": "white"
           },
           "zaxis": {
            "backgroundcolor": "#E5ECF6",
            "gridcolor": "white",
            "gridwidth": 2,
            "linecolor": "white",
            "showbackground": true,
            "ticks": "",
            "zerolinecolor": "white"
           }
          },
          "shapedefaults": {
           "line": {
            "color": "#2a3f5f"
           }
          },
          "ternary": {
           "aaxis": {
            "gridcolor": "white",
            "linecolor": "white",
            "ticks": ""
           },
           "baxis": {
            "gridcolor": "white",
            "linecolor": "white",
            "ticks": ""
           },
           "bgcolor": "#E5ECF6",
           "caxis": {
            "gridcolor": "white",
            "linecolor": "white",
            "ticks": ""
           }
          },
          "title": {
           "x": 0.05
          },
          "xaxis": {
           "automargin": true,
           "gridcolor": "white",
           "linecolor": "white",
           "ticks": "",
           "title": {
            "standoff": 15
           },
           "zerolinecolor": "white",
           "zerolinewidth": 2
          },
          "yaxis": {
           "automargin": true,
           "gridcolor": "white",
           "linecolor": "white",
           "ticks": "",
           "title": {
            "standoff": 15
           },
           "zerolinecolor": "white",
           "zerolinewidth": 2
          }
         }
        },
        "title": {
         "text": "Frequency of Catalyst, Ligand, and Base Combinations (Ranked)"
        },
        "xaxis": {
         "anchor": "y",
         "domain": [
          0,
          1
         ],
         "title": {
          "text": "Ranked Combination Index"
         }
        },
        "yaxis": {
         "anchor": "x",
         "domain": [
          0,
          1
         ],
         "title": {
          "text": "Frequency"
         }
        }
       }
      }
     },
     "metadata": {},
     "output_type": "display_data"
    }
   ],
   "source": [
    "import pandas as pd\n",
    "import plotly.express as px\n",
    "\n",
    "# Load the cleaned data\n",
    "file_path = 'final_cleaned_Reaxys_data.xlsx'\n",
    "data = pd.read_excel(file_path)\n",
    "\n",
    "# Fill NaN values with 'None' to ensure combinations with missing values are counted\n",
    "data = data.fillna('None')\n",
    "\n",
    "# Count the frequency of each unique combination of Catalyst, Ligand, and Base\n",
    "combination_counts = data.groupby(['Catalyst', 'Ligand', 'Base']).size().reset_index(name='Frequency')\n",
    "\n",
    "# Sort combinations by frequency in descending order\n",
    "combination_counts = combination_counts.sort_values(by='Frequency', ascending=False).reset_index(drop=True)\n",
    "\n",
    "# Create a hover text with details of each combination\n",
    "combination_counts['Hover Text'] = (\n",
    "    'Catalyst: ' + combination_counts['Catalyst'] +\n",
    "    '<br>Ligand: ' + combination_counts['Ligand'] +\n",
    "    '<br>Base: ' + combination_counts['Base'] +\n",
    "    '<br>Frequency: ' + combination_counts['Frequency'].astype(str)\n",
    ")\n",
    "\n",
    "# Plot an interactive histogram\n",
    "fig = px.bar(\n",
    "    combination_counts,\n",
    "    x=combination_counts.index,  # Ranked combinations by frequency\n",
    "    y='Frequency',\n",
    "    hover_data={'Hover Text': True, 'Frequency': False},\n",
    "    labels={'x': 'Ranked Combination Index', 'Frequency': 'Frequency'},\n",
    "    title='Frequency of Catalyst, Ligand, and Base Combinations (Ranked)'\n",
    ")\n",
    "\n",
    "# Customize hover text to display combination details\n",
    "fig.update_traces(hovertemplate='%{customdata[0]}')\n",
    "\n",
    "# Customize layout\n",
    "fig.update_layout(\n",
    "    xaxis_title='Ranked Combination Index',\n",
    "    yaxis_title='Frequency',\n",
    "    hoverlabel=dict(bgcolor=\"white\", font_size=12, font_family=\"Arial\")\n",
    ")\n",
    "\n",
    "# Show the plot\n",
    "fig.show()\n"
   ]
  },
  {
   "cell_type": "code",
   "execution_count": 2,
   "metadata": {},
   "outputs": [
    {
     "data": {
      "image/png": "[encoded data removed]",
      "text/plain": [
       "<Figure size 864x720 with 2 Axes>"
      ]
     },
     "metadata": {
      "needs_background": "light"
     },
     "output_type": "display_data"
    }
   ],
   "source": [
    "import pandas as pd\n",
    "import matplotlib.pyplot as plt\n",
    "import networkx as nx\n",
    "import numpy as np\n",
    "from matplotlib.cm import ScalarMappable\n",
    "from matplotlib.colors import Normalize\n",
    "from matplotlib.patches import FancyArrowPatch\n",
    "\n",
    "# Load the cleaned data\n",
    "file_path = 'final_cleaned_Reaxys_data.xlsx'\n",
    "data = pd.read_excel(file_path)\n",
    "\n",
    "# Count the frequency of each unique reagent\n",
    "catalyst_counts = data['Catalyst'].value_counts()\n",
    "ligand_counts = data['Ligand'].value_counts()\n",
    "base_counts = data['Base'].value_counts()\n",
    "\n",
    "# Count the frequency of each unique combination, including missing values for one of the reagents\n",
    "combination_counts = pd.concat([\n",
    "    data.groupby(['Catalyst', 'Ligand'])['Base'].apply(lambda x: x.isna().sum()).reset_index(name='Frequency'),\n",
    "    data.groupby(['Catalyst', 'Base'])['Ligand'].apply(lambda x: x.isna().sum()).reset_index(name='Frequency'),\n",
    "    data.groupby(['Ligand', 'Base'])['Catalyst'].apply(lambda x: x.isna().sum()).reset_index(name='Frequency'),\n",
    "    data.groupby(['Catalyst', 'Ligand', 'Base']).size().reset_index(name='Frequency')\n",
    "], ignore_index=True)\n",
    "\n",
    "# Initialize the graph\n",
    "G = nx.Graph()\n",
    "\n",
    "# Define center positions for each circle at the triangle vertices\n",
    "triangle_positions = {\n",
    "    'Catalyst': (0, 1),    # Top vertex\n",
    "    'Ligand': (-1, -1),    # Bottom left vertex\n",
    "    'Base': (1, -1)        # Bottom right vertex\n",
    "}\n",
    "\n",
    "# Function to generate structured circular positioning\n",
    "def circular_positions(center, num_points, radius=0.5):\n",
    "    angles = np.linspace(0, 2 * np.pi, num_points, endpoint=False)\n",
    "    return [(center[0] + radius * np.cos(angle), center[1] + radius * np.sin(angle)) for angle in angles]\n",
    "\n",
    "# Add nodes for each unique reagent in Catalyst, Ligand, and Base with structured positions in a circular area\n",
    "for i, (catalyst, count) in enumerate(catalyst_counts.items()):\n",
    "    G.add_node(catalyst, type='Catalyst', pos=circular_positions(triangle_positions['Catalyst'], len(catalyst_counts))[i], color=count)\n",
    "\n",
    "for i, (ligand, count) in enumerate(ligand_counts.items()):\n",
    "    G.add_node(ligand, type='Ligand', pos=circular_positions(triangle_positions['Ligand'], len(ligand_counts))[i], color=count)\n",
    "\n",
    "for i, (base, count) in enumerate(base_counts.items()):\n",
    "    G.add_node(base, type='Base', pos=circular_positions(triangle_positions['Base'], len(base_counts))[i], color=count)\n",
    "\n",
    "# Add edges based on the combination data, using frequency as a weight\n",
    "for _, row in combination_counts.iterrows():\n",
    "    catalyst, ligand, base, frequency = row.get('Catalyst'), row.get('Ligand'), row.get('Base'), row['Frequency']\n",
    "\n",
    "    # Connect available pairs\n",
    "    if pd.notna(catalyst) and pd.notna(ligand):\n",
    "        G.add_edge(catalyst, ligand, weight=frequency)\n",
    "    if pd.notna(ligand) and pd.notna(base):\n",
    "        G.add_edge(ligand, base, weight=frequency)\n",
    "    if pd.notna(catalyst) and pd.notna(base):\n",
    "        G.add_edge(catalyst, base, weight=frequency)\n",
    "\n",
    "# Extract positions and colors for each node\n",
    "pos = {node: G.nodes[node]['pos'] for node in G.nodes()}\n",
    "node_colors = [G.nodes[node]['color'] for node in G.nodes()]\n",
    "\n",
    "# Normalize color values to use with viridis colormap\n",
    "norm = Normalize(vmin=min(node_colors), vmax=max(node_colors))\n",
    "cmap = plt.cm.viridis\n",
    "node_color_map = [cmap(norm(freq)) for freq in node_colors]\n",
    "\n",
    "# Draw nodes with color representing frequency\n",
    "fig, ax = plt.subplots(figsize=(12, 10))\n",
    "nx.draw_networkx_nodes(G, pos, nodelist=[n for n in G.nodes if G.nodes[n]['type'] == 'Catalyst'], \n",
    "                       node_color=[node_color_map[i] for i, n in enumerate(G.nodes) if G.nodes[n]['type'] == 'Catalyst'],\n",
    "                       node_size=100, label='Catalyst', ax=ax)\n",
    "nx.draw_networkx_nodes(G, pos, nodelist=[n for n in G.nodes if G.nodes[n]['type'] == 'Ligand'], \n",
    "                       node_color=[node_color_map[i] for i, n in enumerate(G.nodes) if G.nodes[n]['type'] == 'Ligand'],\n",
    "                       node_size=100, label='Ligand', ax=ax)\n",
    "nx.draw_networkx_nodes(G, pos, nodelist=[n for n in G.nodes if G.nodes[n]['type'] == 'Base'], \n",
    "                       node_color=[node_color_map[i] for i, n in enumerate(G.nodes) if G.nodes[n]['type'] == 'Base'],\n",
    "                       node_size=100, label='Base', ax=ax)\n",
    "\n",
    "# Manually draw curved edges with FancyArrowPatch\n",
    "for (u, v, data) in G.edges(data=True):\n",
    "    weight = data['weight'] * 0.1  # Scale weight for thickness\n",
    "    color = 'mediumslateblue'\n",
    "    arrow = FancyArrowPatch(posA=pos[u], posB=pos[v], connectionstyle=\"arc3,rad=0.3\",\n",
    "                            color=color, linewidth=weight, alpha=0.5)\n",
    "    ax.add_patch(arrow)\n",
    "\n",
    "# # Draw labels with offset to avoid overlap with nodes\n",
    "# label_pos = {k: (v[0], v[1] + 0.1) for k, v in pos.items()}  # Adjust label position slightly above the nodes\n",
    "# nx.draw_networkx_labels(G, label_pos, font_size=8, ax=ax)\n",
    "\n",
    "ax.set_axis_off()\n",
    "\n",
    "\n",
    "# Color bar to indicate frequency\n",
    "sm = ScalarMappable(cmap=cmap, norm=norm)\n",
    "sm.set_array([])\n",
    "cbar = plt.colorbar(sm, ax=ax, pad=0.1, shrink=0.5)\n",
    "cbar.set_label('Frequency')\n",
    "\n",
    "# Title and display\n",
    "plt.title(\"Triangular 2D Plot of Catalyst, Ligand, and Base Combinations by Frequency (Color)\")\n",
    "plt.show()\n"
   ]
  },
  {
   "cell_type": "code",
   "execution_count": null,
   "metadata": {},
   "outputs": [],
   "source": []
  }
 ],
 "metadata": {
  "kernelspec": {
   "display_name": "base",
   "language": "python",
   "name": "python3"
  },
  "language_info": {
   "codemirror_mode": {
    "name": "ipython",
    "version": 3
   },
   "file_extension": ".py",
   "mimetype": "text/x-python",
   "name": "python",
   "nbconvert_exporter": "python",
   "pygments_lexer": "ipython3",
   "version": "3.9.7"
  }
 },
 "nbformat": 4,
 "nbformat_minor": 2
}
